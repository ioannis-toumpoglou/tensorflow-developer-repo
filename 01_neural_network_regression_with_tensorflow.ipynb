{
  "nbformat": 4,
  "nbformat_minor": 0,
  "metadata": {
    "colab": {
      "name": "01_neural_network_regression_with_tensorflow.ipynb",
      "provenance": [],
      "collapsed_sections": [],
      "authorship_tag": "ABX9TyOidp1T/AjS2QyGsMa20rkP",
      "include_colab_link": true
    },
    "kernelspec": {
      "name": "python3",
      "display_name": "Python 3"
    },
    "language_info": {
      "name": "python"
    }
  },
  "cells": [
    {
      "cell_type": "markdown",
      "metadata": {
        "id": "view-in-github",
        "colab_type": "text"
      },
      "source": [
        "<a href=\"https://colab.research.google.com/github/ioannis-toumpoglou/tensorflow-developer-repo/blob/main/01_neural_network_regression_with_tensorflow.ipynb\" target=\"_parent\"><img src=\"https://colab.research.google.com/assets/colab-badge.svg\" alt=\"Open In Colab\"/></a>"
      ]
    },
    {
      "cell_type": "markdown",
      "source": [
        "# Introduction to Regression with Neural Networks in TensorFlow\n",
        "\n",
        "There are many definitions for a regression problem. A simple one is: predicting a numerical variable based on a combination of some other variables."
      ],
      "metadata": {
        "id": "xaAN9UP1FrFJ"
      }
    },
    {
      "cell_type": "code",
      "source": [
        "# Import TensorFlow\n",
        "import tensorflow as tf\n",
        "print(tf.__version__)"
      ],
      "metadata": {
        "colab": {
          "base_uri": "https://localhost:8080/"
        },
        "id": "afuWZQUOHDpU",
        "outputId": "c8bb2a8c-e27e-42c3-fbca-dbe044a0996b"
      },
      "execution_count": 25,
      "outputs": [
        {
          "output_type": "stream",
          "name": "stdout",
          "text": [
            "2.8.0\n"
          ]
        }
      ]
    },
    {
      "cell_type": "markdown",
      "source": [
        "## Creating data to view and fit"
      ],
      "metadata": {
        "id": "UuPNN0atH8Mg"
      }
    },
    {
      "cell_type": "code",
      "source": [
        "import numpy as np\n",
        "import matplotlib as plt\n",
        "\n",
        "# Create features\n",
        "X = np.array([-7.0, -4.0, -1.0, 2.0, 5.0, 8.0, 11.0, 14.0])\n",
        "\n",
        "# Create labels\n",
        "y = np.array([3.0, 6.0, 9.0, 12.0, 15.0, 18.0, 21.0, 24.0])\n",
        "\n",
        "# Visualize it\n",
        "plt.pyplot.scatter(X, y)"
      ],
      "metadata": {
        "colab": {
          "base_uri": "https://localhost:8080/",
          "height": 287
        },
        "id": "IfqBDP1JIMRg",
        "outputId": "241d784f-2253-4157-c9bc-942cbc466ba1"
      },
      "execution_count": 26,
      "outputs": [
        {
          "output_type": "execute_result",
          "data": {
            "text/plain": [
              "<matplotlib.collections.PathCollection at 0x7f614adc54d0>"
            ]
          },
          "metadata": {},
          "execution_count": 26
        },
        {
          "output_type": "display_data",
          "data": {
            "text/plain": [
              "<Figure size 432x288 with 1 Axes>"
            ],
            "image/png": "[encoded data removed]"
          },
          "metadata": {
            "needs_background": "light"
          }
        }
      ]
    },
    {
      "cell_type": "code",
      "source": [
        "y == X + 10"
      ],
      "metadata": {
        "colab": {
          "base_uri": "https://localhost:8080/"
        },
        "id": "GTxvqysgJxCA",
        "outputId": "d47bc28f-4463-4898-bdf9-9cf4eae2fbb2"
      },
      "execution_count": 27,
      "outputs": [
        {
          "output_type": "execute_result",
          "data": {
            "text/plain": [
              "array([ True,  True,  True,  True,  True,  True,  True,  True])"
            ]
          },
          "metadata": {},
          "execution_count": 27
        }
      ]
    },
    {
      "cell_type": "markdown",
      "source": [
        "## Input and output shapes"
      ],
      "metadata": {
        "id": "DYJx1lGnJzU6"
      }
    },
    {
      "cell_type": "code",
      "source": [
        "# Create a demo Tensor for a housing price prediction problem\n",
        "house_info = tf.constant(['bedroom', 'bathroom', 'garage'])\n",
        "house_price = tf.constant([939700])\n",
        "house_info, house_price"
      ],
      "metadata": {
        "colab": {
          "base_uri": "https://localhost:8080/"
        },
        "id": "mc6-PVMEJ61E",
        "outputId": "06f95d94-6015-4b29-91af-cc12bc68ce7e"
      },
      "execution_count": 28,
      "outputs": [
        {
          "output_type": "execute_result",
          "data": {
            "text/plain": [
              "(<tf.Tensor: shape=(3,), dtype=string, numpy=array([b'bedroom', b'bathroom', b'garage'], dtype=object)>,\n",
              " <tf.Tensor: shape=(1,), dtype=int32, numpy=array([939700], dtype=int32)>)"
            ]
          },
          "metadata": {},
          "execution_count": 28
        }
      ]
    },
    {
      "cell_type": "code",
      "source": [
        "input_shape = X[0].shape\n",
        "output_shape = y[0].shape\n",
        "input_shape, output_shape"
      ],
      "metadata": {
        "colab": {
          "base_uri": "https://localhost:8080/"
        },
        "id": "r0nFYaFOLBaI",
        "outputId": "f1b95f3c-4432-4293-8100-ab09c7ac0fbe"
      },
      "execution_count": 29,
      "outputs": [
        {
          "output_type": "execute_result",
          "data": {
            "text/plain": [
              "((), ())"
            ]
          },
          "metadata": {},
          "execution_count": 29
        }
      ]
    },
    {
      "cell_type": "code",
      "source": [
        "X[0].ndim"
      ],
      "metadata": {
        "colab": {
          "base_uri": "https://localhost:8080/"
        },
        "id": "FFoJkiWnL3QG",
        "outputId": "11324648-9942-41fc-b1c3-e66ea84d7464"
      },
      "execution_count": 30,
      "outputs": [
        {
          "output_type": "execute_result",
          "data": {
            "text/plain": [
              "0"
            ]
          },
          "metadata": {},
          "execution_count": 30
        }
      ]
    },
    {
      "cell_type": "code",
      "source": [
        "X[0], y[0]"
      ],
      "metadata": {
        "colab": {
          "base_uri": "https://localhost:8080/"
        },
        "id": "vQ7togkHL9q_",
        "outputId": "39e6b1ce-1cf0-4943-a440-5c9f5f975350"
      },
      "execution_count": 31,
      "outputs": [
        {
          "output_type": "execute_result",
          "data": {
            "text/plain": [
              "(-7.0, 3.0)"
            ]
          },
          "metadata": {},
          "execution_count": 31
        }
      ]
    },
    {
      "cell_type": "code",
      "source": [
        "# Turn the NumPy arrays into Tensors\n",
        "X = tf.constant(X)\n",
        "y = tf.constant(y)\n",
        "X, y"
      ],
      "metadata": {
        "id": "QXEh1mhCZo53",
        "colab": {
          "base_uri": "https://localhost:8080/"
        },
        "outputId": "4e21baac-a278-476f-b933-5a102e520456"
      },
      "execution_count": 32,
      "outputs": [
        {
          "output_type": "execute_result",
          "data": {
            "text/plain": [
              "(<tf.Tensor: shape=(8,), dtype=float64, numpy=array([-7., -4., -1.,  2.,  5.,  8., 11., 14.])>,\n",
              " <tf.Tensor: shape=(8,), dtype=float64, numpy=array([ 3.,  6.,  9., 12., 15., 18., 21., 24.])>)"
            ]
          },
          "metadata": {},
          "execution_count": 32
        }
      ]
    },
    {
      "cell_type": "code",
      "source": [
        "input_shape = X[0].shape\n",
        "output_shape = y[0].shape\n",
        "input_shape, output_shape"
      ],
      "metadata": {
        "colab": {
          "base_uri": "https://localhost:8080/"
        },
        "id": "gql1ezamhNLS",
        "outputId": "1a3643f7-7bb4-4ade-ec6e-46f5b83df4b0"
      },
      "execution_count": 33,
      "outputs": [
        {
          "output_type": "execute_result",
          "data": {
            "text/plain": [
              "(TensorShape([]), TensorShape([]))"
            ]
          },
          "metadata": {},
          "execution_count": 33
        }
      ]
    },
    {
      "cell_type": "code",
      "source": [
        "plt.pyplot.scatter(X, y)"
      ],
      "metadata": {
        "colab": {
          "base_uri": "https://localhost:8080/",
          "height": 287
        },
        "id": "_AWMU9c9hVDY",
        "outputId": "2107afba-5907-42a2-e614-dee919c8454f"
      },
      "execution_count": 34,
      "outputs": [
        {
          "output_type": "execute_result",
          "data": {
            "text/plain": [
              "<matplotlib.collections.PathCollection at 0x7f614adb0f90>"
            ]
          },
          "metadata": {},
          "execution_count": 34
        },
        {
          "output_type": "display_data",
          "data": {
            "text/plain": [
              "<Figure size 432x288 with 1 Axes>"
            ],
            "image/png": "[encoded data removed]"
          },
          "metadata": {
            "needs_background": "light"
          }
        }
      ]
    },
    {
      "cell_type": "markdown",
      "source": [
        "## Steps in Modelling with TensorFlow\n",
        "1. **Creating a model** - define the input and output layers, as well as the hidden layers of a deep learning model.\n",
        "2. **Compiling a model** - define the loss function (the function that shows how wrong the model is), the optimizer (tells the model how to improve) and the evaluation metrics (what can be used to interpret the perfomance of the model).\n",
        "3. **Fitting a model** - letting the model try to find patterns between X and y (features and labels)."
      ],
      "metadata": {
        "id": "yfkhGlMqhaiC"
      }
    },
    {
      "cell_type": "code",
      "source": [
        "# Set random seed\n",
        "tf.random.set_seed(42)\n",
        "# 1. Create a model using the Sequential API\n",
        "model = tf.keras.Sequential([\n",
        "  tf.keras.layers.Dense(1) # One input to one output value relationship                      \n",
        "])\n",
        "# 2. Compile the model\n",
        "model.compile(loss=tf.keras.losses.mae, # mae -> Mean Absolute Error\n",
        "              optimizer=tf.keras.optimizers.SGD(), # SGD -> Stochastic Gradient Descent\n",
        "              metrics=['mae'])\n",
        "# 3. Fit the model\n",
        "model.fit(tf.expand_dims(X, axis=-1), y, epochs=5)"
      ],
      "metadata": {
        "colab": {
          "base_uri": "https://localhost:8080/"
        },
        "id": "y80ccMYoiCam",
        "outputId": "87c13f6a-aa52-49c2-8707-be497e136229"
      },
      "execution_count": 35,
      "outputs": [
        {
          "output_type": "stream",
          "name": "stdout",
          "text": [
            "Epoch 1/5\n",
            "1/1 [==============================] - 0s 312ms/step - loss: 11.5048 - mae: 11.5048\n",
            "Epoch 2/5\n",
            "1/1 [==============================] - 0s 11ms/step - loss: 11.3723 - mae: 11.3723\n",
            "Epoch 3/5\n",
            "1/1 [==============================] - 0s 7ms/step - loss: 11.2398 - mae: 11.2398\n",
            "Epoch 4/5\n",
            "1/1 [==============================] - 0s 7ms/step - loss: 11.1073 - mae: 11.1073\n",
            "Epoch 5/5\n",
            "1/1 [==============================] - 0s 14ms/step - loss: 10.9748 - mae: 10.9748\n"
          ]
        },
        {
          "output_type": "execute_result",
          "data": {
            "text/plain": [
              "<keras.callbacks.History at 0x7f614ac7b850>"
            ]
          },
          "metadata": {},
          "execution_count": 35
        }
      ]
    },
    {
      "cell_type": "code",
      "source": [
        "# Check out X and y\n",
        "X, y"
      ],
      "metadata": {
        "colab": {
          "base_uri": "https://localhost:8080/"
        },
        "id": "6hw9lWdown8A",
        "outputId": "fa184074-113f-42b6-f746-480dc52a9eda"
      },
      "execution_count": 36,
      "outputs": [
        {
          "output_type": "execute_result",
          "data": {
            "text/plain": [
              "(<tf.Tensor: shape=(8,), dtype=float64, numpy=array([-7., -4., -1.,  2.,  5.,  8., 11., 14.])>,\n",
              " <tf.Tensor: shape=(8,), dtype=float64, numpy=array([ 3.,  6.,  9., 12., 15., 18., 21., 24.])>)"
            ]
          },
          "metadata": {},
          "execution_count": 36
        }
      ]
    },
    {
      "cell_type": "code",
      "source": [
        "# Try and make a prediction using the model\n",
        "y_pred = model.predict([17.0])\n",
        "y_pred"
      ],
      "metadata": {
        "colab": {
          "base_uri": "https://localhost:8080/"
        },
        "id": "meKBbIX815du",
        "outputId": "af187d13-d059-482c-be11-6d2bae13d433"
      },
      "execution_count": 37,
      "outputs": [
        {
          "output_type": "execute_result",
          "data": {
            "text/plain": [
              "array([[12.716021]], dtype=float32)"
            ]
          },
          "metadata": {},
          "execution_count": 37
        }
      ]
    },
    {
      "cell_type": "markdown",
      "source": [
        "## Improving the Model\n",
        "A model can be improved by altering the steps taken in the model creation.\n",
        "1. **Creating a model** - add more layers, increase the number of hidden units (neurons) within each of the hidden layers or change the activation function of each layer.\n",
        "2. **Compiling a model** - change the optimization function or perhaps the **learning rate** of the optimization function.\n",
        "3. **Fitting a model** - fit the model for more epochs (longer training) or on more data (more examples to learn from)."
      ],
      "metadata": {
        "id": "62FZwyx-3bZY"
      }
    },
    {
      "cell_type": "code",
      "source": [
        "## Rebuild the Model -> more epochs\n",
        "# 1. Create a model using the Sequential API\n",
        "model = tf.keras.Sequential([\n",
        "  tf.keras.layers.Dense(1) # One input to one output value relationship                   \n",
        "])\n",
        "# 2. Compile the model\n",
        "model.compile(loss=tf.keras.losses.mae, # mae -> Mean Absolute Error\n",
        "              optimizer=tf.keras.optimizers.SGD(), # SGD -> Stochastic Gradient Descent\n",
        "              metrics=['mae'])\n",
        "# 3. Fit the model (this time more epochs)\n",
        "model.fit(tf.expand_dims(X, axis=-1), y, epochs=100)"
      ],
      "metadata": {
        "colab": {
          "base_uri": "https://localhost:8080/"
        },
        "id": "Lh2HR9boNL-h",
        "outputId": "d91cc2b4-0a1f-4faa-c677-f4632c251547"
      },
      "execution_count": 61,
      "outputs": [
        {
          "output_type": "stream",
          "name": "stdout",
          "text": [
            "Epoch 1/100\n",
            "1/1 [==============================] - 0s 312ms/step - loss: 18.9026 - mae: 18.9026\n",
            "Epoch 2/100\n",
            "1/1 [==============================] - 0s 7ms/step - loss: 18.6214 - mae: 18.6214\n",
            "Epoch 3/100\n",
            "1/1 [==============================] - 0s 8ms/step - loss: 18.3401 - mae: 18.3401\n",
            "Epoch 4/100\n",
            "1/1 [==============================] - 0s 7ms/step - loss: 18.0589 - mae: 18.0589\n",
            "Epoch 5/100\n",
            "1/1 [==============================] - 0s 9ms/step - loss: 17.7776 - mae: 17.7776\n",
            "Epoch 6/100\n",
            "1/1 [==============================] - 0s 6ms/step - loss: 17.4964 - mae: 17.4964\n",
            "Epoch 7/100\n",
            "1/1 [==============================] - 0s 6ms/step - loss: 17.2151 - mae: 17.2151\n",
            "Epoch 8/100\n",
            "1/1 [==============================] - 0s 6ms/step - loss: 16.9339 - mae: 16.9339\n",
            "Epoch 9/100\n",
            "1/1 [==============================] - 0s 6ms/step - loss: 16.6526 - mae: 16.6526\n",
            "Epoch 10/100\n",
            "1/1 [==============================] - 0s 9ms/step - loss: 16.3714 - mae: 16.3714\n",
            "Epoch 11/100\n",
            "1/1 [==============================] - 0s 7ms/step - loss: 16.0901 - mae: 16.0901\n",
            "Epoch 12/100\n",
            "1/1 [==============================] - 0s 10ms/step - loss: 15.8089 - mae: 15.8089\n",
            "Epoch 13/100\n",
            "1/1 [==============================] - 0s 13ms/step - loss: 15.5276 - mae: 15.5276\n",
            "Epoch 14/100\n",
            "1/1 [==============================] - 0s 9ms/step - loss: 15.2464 - mae: 15.2464\n",
            "Epoch 15/100\n",
            "1/1 [==============================] - 0s 8ms/step - loss: 14.9651 - mae: 14.9651\n",
            "Epoch 16/100\n",
            "1/1 [==============================] - 0s 9ms/step - loss: 14.7330 - mae: 14.7330\n",
            "Epoch 17/100\n",
            "1/1 [==============================] - 0s 9ms/step - loss: 14.6005 - mae: 14.6005\n",
            "Epoch 18/100\n",
            "1/1 [==============================] - 0s 10ms/step - loss: 14.4680 - mae: 14.4680\n",
            "Epoch 19/100\n",
            "1/1 [==============================] - 0s 6ms/step - loss: 14.3355 - mae: 14.3355\n",
            "Epoch 20/100\n",
            "1/1 [==============================] - 0s 6ms/step - loss: 14.2030 - mae: 14.2030\n",
            "Epoch 21/100\n",
            "1/1 [==============================] - 0s 16ms/step - loss: 14.0705 - mae: 14.0705\n",
            "Epoch 22/100\n",
            "1/1 [==============================] - 0s 12ms/step - loss: 13.9380 - mae: 13.9380\n",
            "Epoch 23/100\n",
            "1/1 [==============================] - 0s 6ms/step - loss: 13.8055 - mae: 13.8055\n",
            "Epoch 24/100\n",
            "1/1 [==============================] - 0s 6ms/step - loss: 13.6730 - mae: 13.6730\n",
            "Epoch 25/100\n",
            "1/1 [==============================] - 0s 6ms/step - loss: 13.5405 - mae: 13.5405\n",
            "Epoch 26/100\n",
            "1/1 [==============================] - 0s 6ms/step - loss: 13.4080 - mae: 13.4080\n",
            "Epoch 27/100\n",
            "1/1 [==============================] - 0s 6ms/step - loss: 13.2755 - mae: 13.2755\n",
            "Epoch 28/100\n",
            "1/1 [==============================] - 0s 18ms/step - loss: 13.1430 - mae: 13.1430\n",
            "Epoch 29/100\n",
            "1/1 [==============================] - 0s 13ms/step - loss: 13.0105 - mae: 13.0105\n",
            "Epoch 30/100\n",
            "1/1 [==============================] - 0s 10ms/step - loss: 12.8780 - mae: 12.8780\n",
            "Epoch 31/100\n",
            "1/1 [==============================] - 0s 11ms/step - loss: 12.7455 - mae: 12.7455\n",
            "Epoch 32/100\n",
            "1/1 [==============================] - 0s 11ms/step - loss: 12.6130 - mae: 12.6130\n",
            "Epoch 33/100\n",
            "1/1 [==============================] - 0s 10ms/step - loss: 12.4805 - mae: 12.4805\n",
            "Epoch 34/100\n",
            "1/1 [==============================] - 0s 8ms/step - loss: 12.3480 - mae: 12.3480\n",
            "Epoch 35/100\n",
            "1/1 [==============================] - 0s 17ms/step - loss: 12.2155 - mae: 12.2155\n",
            "Epoch 36/100\n",
            "1/1 [==============================] - 0s 11ms/step - loss: 12.0830 - mae: 12.0830\n",
            "Epoch 37/100\n",
            "1/1 [==============================] - 0s 12ms/step - loss: 11.9505 - mae: 11.9505\n",
            "Epoch 38/100\n",
            "1/1 [==============================] - 0s 8ms/step - loss: 11.8180 - mae: 11.8180\n",
            "Epoch 39/100\n",
            "1/1 [==============================] - 0s 9ms/step - loss: 11.6855 - mae: 11.6855\n",
            "Epoch 40/100\n",
            "1/1 [==============================] - 0s 6ms/step - loss: 11.5530 - mae: 11.5530\n",
            "Epoch 41/100\n",
            "1/1 [==============================] - 0s 7ms/step - loss: 11.4205 - mae: 11.4205\n",
            "Epoch 42/100\n",
            "1/1 [==============================] - 0s 8ms/step - loss: 11.2880 - mae: 11.2880\n",
            "Epoch 43/100\n",
            "1/1 [==============================] - 0s 7ms/step - loss: 11.1555 - mae: 11.1555\n",
            "Epoch 44/100\n",
            "1/1 [==============================] - 0s 7ms/step - loss: 11.0230 - mae: 11.0230\n",
            "Epoch 45/100\n",
            "1/1 [==============================] - 0s 6ms/step - loss: 10.8905 - mae: 10.8905\n",
            "Epoch 46/100\n",
            "1/1 [==============================] - 0s 8ms/step - loss: 10.7580 - mae: 10.7580\n",
            "Epoch 47/100\n",
            "1/1 [==============================] - 0s 8ms/step - loss: 10.6255 - mae: 10.6255\n",
            "Epoch 48/100\n",
            "1/1 [==============================] - 0s 6ms/step - loss: 10.4930 - mae: 10.4930\n",
            "Epoch 49/100\n",
            "1/1 [==============================] - 0s 8ms/step - loss: 10.3605 - mae: 10.3605\n",
            "Epoch 50/100\n",
            "1/1 [==============================] - 0s 9ms/step - loss: 10.2280 - mae: 10.2280\n",
            "Epoch 51/100\n",
            "1/1 [==============================] - 0s 9ms/step - loss: 10.0955 - mae: 10.0955\n",
            "Epoch 52/100\n",
            "1/1 [==============================] - 0s 7ms/step - loss: 9.9630 - mae: 9.9630\n",
            "Epoch 53/100\n",
            "1/1 [==============================] - 0s 14ms/step - loss: 9.8305 - mae: 9.8305\n",
            "Epoch 54/100\n",
            "1/1 [==============================] - 0s 8ms/step - loss: 9.6980 - mae: 9.6980\n",
            "Epoch 55/100\n",
            "1/1 [==============================] - 0s 6ms/step - loss: 9.5655 - mae: 9.5655\n",
            "Epoch 56/100\n",
            "1/1 [==============================] - 0s 6ms/step - loss: 9.4330 - mae: 9.4330\n",
            "Epoch 57/100\n",
            "1/1 [==============================] - 0s 8ms/step - loss: 9.3005 - mae: 9.3005\n",
            "Epoch 58/100\n",
            "1/1 [==============================] - 0s 8ms/step - loss: 9.1680 - mae: 9.1680\n",
            "Epoch 59/100\n",
            "1/1 [==============================] - 0s 9ms/step - loss: 9.0355 - mae: 9.0355\n",
            "Epoch 60/100\n",
            "1/1 [==============================] - 0s 7ms/step - loss: 8.9030 - mae: 8.9030\n",
            "Epoch 61/100\n",
            "1/1 [==============================] - 0s 9ms/step - loss: 8.7705 - mae: 8.7705\n",
            "Epoch 62/100\n",
            "1/1 [==============================] - 0s 13ms/step - loss: 8.6380 - mae: 8.6380\n",
            "Epoch 63/100\n",
            "1/1 [==============================] - 0s 8ms/step - loss: 8.5055 - mae: 8.5055\n",
            "Epoch 64/100\n",
            "1/1 [==============================] - 0s 7ms/step - loss: 8.3730 - mae: 8.3730\n",
            "Epoch 65/100\n",
            "1/1 [==============================] - 0s 7ms/step - loss: 8.2405 - mae: 8.2405\n",
            "Epoch 66/100\n",
            "1/1 [==============================] - 0s 7ms/step - loss: 8.1080 - mae: 8.1080\n",
            "Epoch 67/100\n",
            "1/1 [==============================] - 0s 7ms/step - loss: 7.9755 - mae: 7.9755\n",
            "Epoch 68/100\n",
            "1/1 [==============================] - 0s 10ms/step - loss: 7.8430 - mae: 7.8430\n",
            "Epoch 69/100\n",
            "1/1 [==============================] - 0s 6ms/step - loss: 7.7105 - mae: 7.7105\n",
            "Epoch 70/100\n",
            "1/1 [==============================] - 0s 6ms/step - loss: 7.5780 - mae: 7.5780\n",
            "Epoch 71/100\n",
            "1/1 [==============================] - 0s 5ms/step - loss: 7.4455 - mae: 7.4455\n",
            "Epoch 72/100\n",
            "1/1 [==============================] - 0s 6ms/step - loss: 7.3130 - mae: 7.3130\n",
            "Epoch 73/100\n",
            "1/1 [==============================] - 0s 6ms/step - loss: 7.1805 - mae: 7.1805\n",
            "Epoch 74/100\n",
            "1/1 [==============================] - 0s 13ms/step - loss: 7.0480 - mae: 7.0480\n",
            "Epoch 75/100\n",
            "1/1 [==============================] - 0s 12ms/step - loss: 6.9731 - mae: 6.9731\n",
            "Epoch 76/100\n",
            "1/1 [==============================] - 0s 8ms/step - loss: 6.9675 - mae: 6.9675\n",
            "Epoch 77/100\n",
            "1/1 [==============================] - 0s 7ms/step - loss: 6.9619 - mae: 6.9619\n",
            "Epoch 78/100\n",
            "1/1 [==============================] - 0s 10ms/step - loss: 6.9563 - mae: 6.9563\n",
            "Epoch 79/100\n",
            "1/1 [==============================] - 0s 7ms/step - loss: 6.9506 - mae: 6.9506\n",
            "Epoch 80/100\n",
            "1/1 [==============================] - 0s 7ms/step - loss: 6.9450 - mae: 6.9450\n",
            "Epoch 81/100\n",
            "1/1 [==============================] - 0s 7ms/step - loss: 6.9394 - mae: 6.9394\n",
            "Epoch 82/100\n",
            "1/1 [==============================] - 0s 7ms/step - loss: 6.9338 - mae: 6.9338\n",
            "Epoch 83/100\n",
            "1/1 [==============================] - 0s 7ms/step - loss: 6.9281 - mae: 6.9281\n",
            "Epoch 84/100\n",
            "1/1 [==============================] - 0s 7ms/step - loss: 6.9225 - mae: 6.9225\n",
            "Epoch 85/100\n",
            "1/1 [==============================] - 0s 9ms/step - loss: 6.9169 - mae: 6.9169\n",
            "Epoch 86/100\n",
            "1/1 [==============================] - 0s 8ms/step - loss: 6.9113 - mae: 6.9113\n",
            "Epoch 87/100\n",
            "1/1 [==============================] - 0s 8ms/step - loss: 6.9056 - mae: 6.9056\n",
            "Epoch 88/100\n",
            "1/1 [==============================] - 0s 7ms/step - loss: 6.9000 - mae: 6.9000\n",
            "Epoch 89/100\n",
            "1/1 [==============================] - 0s 8ms/step - loss: 6.8944 - mae: 6.8944\n",
            "Epoch 90/100\n",
            "1/1 [==============================] - 0s 13ms/step - loss: 6.8888 - mae: 6.8888\n",
            "Epoch 91/100\n",
            "1/1 [==============================] - 0s 8ms/step - loss: 6.8831 - mae: 6.8831\n",
            "Epoch 92/100\n",
            "1/1 [==============================] - 0s 11ms/step - loss: 6.8775 - mae: 6.8775\n",
            "Epoch 93/100\n",
            "1/1 [==============================] - 0s 6ms/step - loss: 6.8719 - mae: 6.8719\n",
            "Epoch 94/100\n",
            "1/1 [==============================] - 0s 6ms/step - loss: 6.8663 - mae: 6.8663\n",
            "Epoch 95/100\n",
            "1/1 [==============================] - 0s 8ms/step - loss: 6.8606 - mae: 6.8606\n",
            "Epoch 96/100\n",
            "1/1 [==============================] - 0s 6ms/step - loss: 6.8550 - mae: 6.8550\n",
            "Epoch 97/100\n",
            "1/1 [==============================] - 0s 8ms/step - loss: 6.8494 - mae: 6.8494\n",
            "Epoch 98/100\n",
            "1/1 [==============================] - 0s 5ms/step - loss: 6.8438 - mae: 6.8438\n",
            "Epoch 99/100\n",
            "1/1 [==============================] - 0s 5ms/step - loss: 6.8381 - mae: 6.8381\n",
            "Epoch 100/100\n",
            "1/1 [==============================] - 0s 10ms/step - loss: 6.8325 - mae: 6.8325\n"
          ]
        },
        {
          "output_type": "execute_result",
          "data": {
            "text/plain": [
              "<keras.callbacks.History at 0x7f613da51710>"
            ]
          },
          "metadata": {},
          "execution_count": 61
        }
      ]
    },
    {
      "cell_type": "code",
      "source": [
        "# Data\n",
        "X, y"
      ],
      "metadata": {
        "colab": {
          "base_uri": "https://localhost:8080/"
        },
        "id": "BANfYlSUPLgT",
        "outputId": "142b044c-9564-421a-dbd8-e0cb453dd2b1"
      },
      "execution_count": 59,
      "outputs": [
        {
          "output_type": "execute_result",
          "data": {
            "text/plain": [
              "(<tf.Tensor: shape=(8,), dtype=float64, numpy=array([-7., -4., -1.,  2.,  5.,  8., 11., 14.])>,\n",
              " <tf.Tensor: shape=(8,), dtype=float64, numpy=array([ 3.,  6.,  9., 12., 15., 18., 21., 24.])>)"
            ]
          },
          "metadata": {},
          "execution_count": 59
        }
      ]
    },
    {
      "cell_type": "code",
      "source": [
        "# Has the Model's prediction improved?\n",
        "model.predict([17.0])"
      ],
      "metadata": {
        "colab": {
          "base_uri": "https://localhost:8080/"
        },
        "id": "UmpG4iRVPVrp",
        "outputId": "f077f847-4e5f-4e7d-8aac-8bd4f588b066"
      },
      "execution_count": 62,
      "outputs": [
        {
          "output_type": "execute_result",
          "data": {
            "text/plain": [
              "array([[29.46719]], dtype=float32)"
            ]
          },
          "metadata": {},
          "execution_count": 62
        }
      ]
    },
    {
      "cell_type": "code",
      "source": [
        "# Another try to improve the Model\n",
        "## Rebuild the Model -> use an additional layer (relu)\n",
        "# 1. Create a model using the Sequential API\n",
        "model = tf.keras.Sequential([\n",
        "  tf.keras.layers.Dense(100, activation='relu'),\n",
        "  tf.keras.layers.Dense(1) # One input to one output value relationship                   \n",
        "])\n",
        "# 2. Compile the model\n",
        "model.compile(loss=tf.keras.losses.mae, # mae -> Mean Absolute Error\n",
        "              optimizer=tf.keras.optimizers.SGD(), # SGD -> Stochastic Gradient Descent\n",
        "              metrics=['mae'])\n",
        "# 3. Fit the model (this time more epochs)\n",
        "model.fit(tf.expand_dims(X, axis=-1), y, epochs=100)"
      ],
      "metadata": {
        "colab": {
          "base_uri": "https://localhost:8080/"
        },
        "id": "aUAWJSmVTOmX",
        "outputId": "fdaa0db3-13db-4333-cd49-4a3eb4e3bf2d"
      },
      "execution_count": 81,
      "outputs": [
        {
          "output_type": "stream",
          "name": "stdout",
          "text": [
            "Epoch 1/100\n",
            "1/1 [==============================] - 0s 318ms/step - loss: 13.8087 - mae: 13.8087\n",
            "Epoch 2/100\n",
            "1/1 [==============================] - 0s 6ms/step - loss: 13.3054 - mae: 13.3054\n",
            "Epoch 3/100\n",
            "1/1 [==============================] - 0s 7ms/step - loss: 12.8015 - mae: 12.8015\n",
            "Epoch 4/100\n",
            "1/1 [==============================] - 0s 9ms/step - loss: 12.2931 - mae: 12.2931\n",
            "Epoch 5/100\n",
            "1/1 [==============================] - 0s 10ms/step - loss: 11.7788 - mae: 11.7788\n",
            "Epoch 6/100\n",
            "1/1 [==============================] - 0s 7ms/step - loss: 11.2583 - mae: 11.2583\n",
            "Epoch 7/100\n",
            "1/1 [==============================] - 0s 9ms/step - loss: 10.7208 - mae: 10.7208\n",
            "Epoch 8/100\n",
            "1/1 [==============================] - 0s 12ms/step - loss: 10.1695 - mae: 10.1695\n",
            "Epoch 9/100\n",
            "1/1 [==============================] - 0s 8ms/step - loss: 9.5915 - mae: 9.5915\n",
            "Epoch 10/100\n",
            "1/1 [==============================] - 0s 6ms/step - loss: 8.9919 - mae: 8.9919\n",
            "Epoch 11/100\n",
            "1/1 [==============================] - 0s 7ms/step - loss: 8.3577 - mae: 8.3577\n",
            "Epoch 12/100\n",
            "1/1 [==============================] - 0s 8ms/step - loss: 7.6876 - mae: 7.6876\n",
            "Epoch 13/100\n",
            "1/1 [==============================] - 0s 8ms/step - loss: 6.9683 - mae: 6.9683\n",
            "Epoch 14/100\n",
            "1/1 [==============================] - 0s 6ms/step - loss: 6.2005 - mae: 6.2005\n",
            "Epoch 15/100\n",
            "1/1 [==============================] - 0s 7ms/step - loss: 5.3680 - mae: 5.3680\n",
            "Epoch 16/100\n",
            "1/1 [==============================] - 0s 8ms/step - loss: 4.4641 - mae: 4.4641\n",
            "Epoch 17/100\n",
            "1/1 [==============================] - 0s 8ms/step - loss: 3.9673 - mae: 3.9673\n",
            "Epoch 18/100\n",
            "1/1 [==============================] - 0s 6ms/step - loss: 3.9038 - mae: 3.9038\n",
            "Epoch 19/100\n",
            "1/1 [==============================] - 0s 6ms/step - loss: 3.9498 - mae: 3.9498\n",
            "Epoch 20/100\n",
            "1/1 [==============================] - 0s 12ms/step - loss: 3.9116 - mae: 3.9116\n",
            "Epoch 21/100\n",
            "1/1 [==============================] - 0s 14ms/step - loss: 3.9248 - mae: 3.9248\n",
            "Epoch 22/100\n",
            "1/1 [==============================] - 0s 14ms/step - loss: 3.9183 - mae: 3.9183\n",
            "Epoch 23/100\n",
            "1/1 [==============================] - 0s 8ms/step - loss: 3.8999 - mae: 3.8999\n",
            "Epoch 24/100\n",
            "1/1 [==============================] - 0s 10ms/step - loss: 3.9251 - mae: 3.9251\n",
            "Epoch 25/100\n",
            "1/1 [==============================] - 0s 9ms/step - loss: 3.8747 - mae: 3.8747\n",
            "Epoch 26/100\n",
            "1/1 [==============================] - 0s 11ms/step - loss: 3.9364 - mae: 3.9364\n",
            "Epoch 27/100\n",
            "1/1 [==============================] - 0s 8ms/step - loss: 3.8744 - mae: 3.8744\n",
            "Epoch 28/100\n",
            "1/1 [==============================] - 0s 8ms/step - loss: 3.9279 - mae: 3.9279\n",
            "Epoch 29/100\n",
            "1/1 [==============================] - 0s 8ms/step - loss: 3.8812 - mae: 3.8812\n",
            "Epoch 30/100\n",
            "1/1 [==============================] - 0s 8ms/step - loss: 3.9029 - mae: 3.9029\n",
            "Epoch 31/100\n",
            "1/1 [==============================] - 0s 11ms/step - loss: 3.8881 - mae: 3.8881\n",
            "Epoch 32/100\n",
            "1/1 [==============================] - 0s 7ms/step - loss: 3.8776 - mae: 3.8776\n",
            "Epoch 33/100\n",
            "1/1 [==============================] - 0s 6ms/step - loss: 3.8951 - mae: 3.8951\n",
            "Epoch 34/100\n",
            "1/1 [==============================] - 0s 6ms/step - loss: 3.8548 - mae: 3.8548\n",
            "Epoch 35/100\n",
            "1/1 [==============================] - 0s 5ms/step - loss: 3.9099 - mae: 3.9099\n",
            "Epoch 36/100\n",
            "1/1 [==============================] - 0s 6ms/step - loss: 3.8449 - mae: 3.8449\n",
            "Epoch 37/100\n",
            "1/1 [==============================] - 0s 7ms/step - loss: 3.9050 - mae: 3.9050\n",
            "Epoch 38/100\n",
            "1/1 [==============================] - 0s 6ms/step - loss: 3.8519 - mae: 3.8519\n",
            "Epoch 39/100\n",
            "1/1 [==============================] - 0s 8ms/step - loss: 3.8796 - mae: 3.8796\n",
            "Epoch 40/100\n",
            "1/1 [==============================] - 0s 10ms/step - loss: 3.8590 - mae: 3.8590\n",
            "Epoch 41/100\n",
            "1/1 [==============================] - 0s 9ms/step - loss: 3.8541 - mae: 3.8541\n",
            "Epoch 42/100\n",
            "1/1 [==============================] - 0s 14ms/step - loss: 3.8663 - mae: 3.8663\n",
            "Epoch 43/100\n",
            "1/1 [==============================] - 0s 9ms/step - loss: 3.8355 - mae: 3.8355\n",
            "Epoch 44/100\n",
            "1/1 [==============================] - 0s 12ms/step - loss: 3.8811 - mae: 3.8811\n",
            "Epoch 45/100\n",
            "1/1 [==============================] - 0s 8ms/step - loss: 3.8165 - mae: 3.8165\n",
            "Epoch 46/100\n",
            "1/1 [==============================] - 0s 7ms/step - loss: 3.8807 - mae: 3.8807\n",
            "Epoch 47/100\n",
            "1/1 [==============================] - 0s 14ms/step - loss: 3.8237 - mae: 3.8237\n",
            "Epoch 48/100\n",
            "1/1 [==============================] - 0s 7ms/step - loss: 3.8551 - mae: 3.8551\n",
            "Epoch 49/100\n",
            "1/1 [==============================] - 0s 10ms/step - loss: 3.8310 - mae: 3.8310\n",
            "Epoch 50/100\n",
            "1/1 [==============================] - 0s 8ms/step - loss: 3.8294 - mae: 3.8294\n",
            "Epoch 51/100\n",
            "1/1 [==============================] - 0s 7ms/step - loss: 3.8435 - mae: 3.8435\n",
            "Epoch 52/100\n",
            "1/1 [==============================] - 0s 6ms/step - loss: 3.8104 - mae: 3.8104\n",
            "Epoch 53/100\n",
            "1/1 [==============================] - 0s 6ms/step - loss: 3.8535 - mae: 3.8535\n",
            "Epoch 54/100\n",
            "1/1 [==============================] - 0s 6ms/step - loss: 3.7893 - mae: 3.7893\n",
            "Epoch 55/100\n",
            "1/1 [==============================] - 0s 8ms/step - loss: 3.8552 - mae: 3.8552\n",
            "Epoch 56/100\n",
            "1/1 [==============================] - 0s 5ms/step - loss: 3.7966 - mae: 3.7966\n",
            "Epoch 57/100\n",
            "1/1 [==============================] - 0s 5ms/step - loss: 3.8293 - mae: 3.8293\n",
            "Epoch 58/100\n",
            "1/1 [==============================] - 0s 11ms/step - loss: 3.8041 - mae: 3.8041\n",
            "Epoch 59/100\n",
            "1/1 [==============================] - 0s 5ms/step - loss: 3.8063 - mae: 3.8063\n",
            "Epoch 60/100\n",
            "1/1 [==============================] - 0s 5ms/step - loss: 3.8193 - mae: 3.8193\n",
            "Epoch 61/100\n",
            "1/1 [==============================] - 0s 5ms/step - loss: 3.7840 - mae: 3.7840\n",
            "Epoch 62/100\n",
            "1/1 [==============================] - 0s 6ms/step - loss: 3.8270 - mae: 3.8270\n",
            "Epoch 63/100\n",
            "1/1 [==============================] - 0s 5ms/step - loss: 3.7631 - mae: 3.7631\n",
            "Epoch 64/100\n",
            "1/1 [==============================] - 0s 6ms/step - loss: 3.8284 - mae: 3.8284\n",
            "Epoch 65/100\n",
            "1/1 [==============================] - 0s 5ms/step - loss: 3.7706 - mae: 3.7706\n",
            "Epoch 66/100\n",
            "1/1 [==============================] - 0s 5ms/step - loss: 3.8023 - mae: 3.8023\n",
            "Epoch 67/100\n",
            "1/1 [==============================] - 0s 11ms/step - loss: 3.7785 - mae: 3.7785\n",
            "Epoch 68/100\n",
            "1/1 [==============================] - 0s 10ms/step - loss: 3.7829 - mae: 3.7829\n",
            "Epoch 69/100\n",
            "1/1 [==============================] - 0s 6ms/step - loss: 3.7937 - mae: 3.7937\n",
            "Epoch 70/100\n",
            "1/1 [==============================] - 0s 8ms/step - loss: 3.7563 - mae: 3.7563\n",
            "Epoch 71/100\n",
            "1/1 [==============================] - 0s 8ms/step - loss: 3.8016 - mae: 3.8016\n",
            "Epoch 72/100\n",
            "1/1 [==============================] - 0s 7ms/step - loss: 3.7379 - mae: 3.7379\n",
            "Epoch 73/100\n",
            "1/1 [==============================] - 0s 6ms/step - loss: 3.8004 - mae: 3.8004\n",
            "Epoch 74/100\n",
            "1/1 [==============================] - 0s 6ms/step - loss: 3.7457 - mae: 3.7457\n",
            "Epoch 75/100\n",
            "1/1 [==============================] - 0s 6ms/step - loss: 3.7739 - mae: 3.7739\n",
            "Epoch 76/100\n",
            "1/1 [==============================] - 0s 12ms/step - loss: 3.7583 - mae: 3.7583\n",
            "Epoch 77/100\n",
            "1/1 [==============================] - 0s 10ms/step - loss: 3.7542 - mae: 3.7542\n",
            "Epoch 78/100\n",
            "1/1 [==============================] - 0s 14ms/step - loss: 3.7691 - mae: 3.7691\n",
            "Epoch 79/100\n",
            "1/1 [==============================] - 0s 10ms/step - loss: 3.7273 - mae: 3.7273\n",
            "Epoch 80/100\n",
            "1/1 [==============================] - 0s 6ms/step - loss: 3.7772 - mae: 3.7772\n",
            "Epoch 81/100\n",
            "1/1 [==============================] - 0s 6ms/step - loss: 3.7138 - mae: 3.7138\n",
            "Epoch 82/100\n",
            "1/1 [==============================] - 0s 6ms/step - loss: 3.7710 - mae: 3.7710\n",
            "Epoch 83/100\n",
            "1/1 [==============================] - 0s 6ms/step - loss: 3.7218 - mae: 3.7218\n",
            "Epoch 84/100\n",
            "1/1 [==============================] - 0s 21ms/step - loss: 3.7464 - mae: 3.7464\n",
            "Epoch 85/100\n",
            "1/1 [==============================] - 0s 7ms/step - loss: 3.7375 - mae: 3.7375\n",
            "Epoch 86/100\n",
            "1/1 [==============================] - 0s 6ms/step - loss: 3.7242 - mae: 3.7242\n",
            "Epoch 87/100\n",
            "1/1 [==============================] - 0s 6ms/step - loss: 3.7456 - mae: 3.7456\n",
            "Epoch 88/100\n",
            "1/1 [==============================] - 0s 6ms/step - loss: 3.6970 - mae: 3.6970\n",
            "Epoch 89/100\n",
            "1/1 [==============================] - 0s 7ms/step - loss: 3.7539 - mae: 3.7539\n",
            "Epoch 90/100\n",
            "1/1 [==============================] - 0s 11ms/step - loss: 3.6907 - mae: 3.6907\n",
            "Epoch 91/100\n",
            "1/1 [==============================] - 0s 6ms/step - loss: 3.7403 - mae: 3.7403\n",
            "Epoch 92/100\n",
            "1/1 [==============================] - 0s 6ms/step - loss: 3.6989 - mae: 3.6989\n",
            "Epoch 93/100\n",
            "1/1 [==============================] - 0s 6ms/step - loss: 3.7197 - mae: 3.7197\n",
            "Epoch 94/100\n",
            "1/1 [==============================] - 0s 6ms/step - loss: 3.7147 - mae: 3.7147\n",
            "Epoch 95/100\n",
            "1/1 [==============================] - 0s 6ms/step - loss: 3.6928 - mae: 3.6928\n",
            "Epoch 96/100\n",
            "1/1 [==============================] - 0s 6ms/step - loss: 3.7231 - mae: 3.7231\n",
            "Epoch 97/100\n",
            "1/1 [==============================] - 0s 6ms/step - loss: 3.6653 - mae: 3.6653\n",
            "Epoch 98/100\n",
            "1/1 [==============================] - 0s 5ms/step - loss: 3.7316 - mae: 3.7316\n",
            "Epoch 99/100\n",
            "1/1 [==============================] - 0s 5ms/step - loss: 3.6686 - mae: 3.6686\n",
            "Epoch 100/100\n",
            "1/1 [==============================] - 0s 5ms/step - loss: 3.7083 - mae: 3.7083\n"
          ]
        },
        {
          "output_type": "execute_result",
          "data": {
            "text/plain": [
              "<keras.callbacks.History at 0x7f614047e150>"
            ]
          },
          "metadata": {},
          "execution_count": 81
        }
      ]
    },
    {
      "cell_type": "code",
      "source": [
        "# Data\n",
        "X, y"
      ],
      "metadata": {
        "colab": {
          "base_uri": "https://localhost:8080/"
        },
        "id": "6eTh686_WkcV",
        "outputId": "86696e13-81e9-4225-9a58-f71374f0d66b"
      },
      "execution_count": 82,
      "outputs": [
        {
          "output_type": "execute_result",
          "data": {
            "text/plain": [
              "(<tf.Tensor: shape=(8,), dtype=float64, numpy=array([-7., -4., -1.,  2.,  5.,  8., 11., 14.])>,\n",
              " <tf.Tensor: shape=(8,), dtype=float64, numpy=array([ 3.,  6.,  9., 12., 15., 18., 21., 24.])>)"
            ]
          },
          "metadata": {},
          "execution_count": 82
        }
      ]
    },
    {
      "cell_type": "code",
      "source": [
        "# Has the Model's prediction improved?\n",
        "model.predict([17.0])"
      ],
      "metadata": {
        "colab": {
          "base_uri": "https://localhost:8080/"
        },
        "id": "H4oGqOxjTxgL",
        "outputId": "6dfdf05a-7d02-444d-83cd-f1b760653886"
      },
      "execution_count": 83,
      "outputs": [
        {
          "output_type": "execute_result",
          "data": {
            "text/plain": [
              "array([[32.319572]], dtype=float32)"
            ]
          },
          "metadata": {},
          "execution_count": 83
        }
      ]
    },
    {
      "cell_type": "markdown",
      "source": [
        "Even though the loss and mae decreased, the distance from the target (27) increased. This means that the Model is overfitting."
      ],
      "metadata": {
        "id": "gDNDIFOaVEig"
      }
    },
    {
      "cell_type": "code",
      "source": [
        "# Another try to improve the Model\n",
        "## Rebuild the Model -> changes in additional layer and optimizer\n",
        "# 1. Create a model using the Sequential API\n",
        "model = tf.keras.Sequential([\n",
        "  tf.keras.layers.Dense(50, activation=None),\n",
        "  tf.keras.layers.Dense(1) # One input to one output value relationship                   \n",
        "])\n",
        "# 2. Compile the model\n",
        "model.compile(loss=tf.keras.losses.mae, # mae -> Mean Absolute Error\n",
        "              optimizer=tf.keras.optimizers.Adam(learning_rate=0.05), # Adam\n",
        "              metrics=['mae'])\n",
        "# 3. Fit the model (this time more epochs)\n",
        "model.fit(tf.expand_dims(X, axis=-1), y, epochs=100)"
      ],
      "metadata": {
        "colab": {
          "base_uri": "https://localhost:8080/"
        },
        "id": "WL_riNoAU-Ls",
        "outputId": "b62cacfd-fdf6-4d74-f08a-403101e784d9"
      },
      "execution_count": 94,
      "outputs": [
        {
          "output_type": "stream",
          "name": "stdout",
          "text": [
            "Epoch 1/100\n",
            "1/1 [==============================] - 0s 349ms/step - loss: 11.9261 - mae: 11.9261\n",
            "Epoch 2/100\n",
            "1/1 [==============================] - 0s 6ms/step - loss: 8.5192 - mae: 8.5192\n",
            "Epoch 3/100\n",
            "1/1 [==============================] - 0s 7ms/step - loss: 7.9875 - mae: 7.9875\n",
            "Epoch 4/100\n",
            "1/1 [==============================] - 0s 7ms/step - loss: 7.8224 - mae: 7.8224\n",
            "Epoch 5/100\n",
            "1/1 [==============================] - 0s 7ms/step - loss: 6.5047 - mae: 6.5047\n",
            "Epoch 6/100\n",
            "1/1 [==============================] - 0s 6ms/step - loss: 6.3003 - mae: 6.3003\n",
            "Epoch 7/100\n",
            "1/1 [==============================] - 0s 7ms/step - loss: 6.3694 - mae: 6.3694\n",
            "Epoch 8/100\n",
            "1/1 [==============================] - 0s 6ms/step - loss: 5.7420 - mae: 5.7420\n",
            "Epoch 9/100\n",
            "1/1 [==============================] - 0s 6ms/step - loss: 4.8857 - mae: 4.8857\n",
            "Epoch 10/100\n",
            "1/1 [==============================] - 0s 6ms/step - loss: 4.9180 - mae: 4.9180\n",
            "Epoch 11/100\n",
            "1/1 [==============================] - 0s 5ms/step - loss: 4.7043 - mae: 4.7043\n",
            "Epoch 12/100\n",
            "1/1 [==============================] - 0s 7ms/step - loss: 3.8857 - mae: 3.8857\n",
            "Epoch 13/100\n",
            "1/1 [==============================] - 0s 5ms/step - loss: 3.1256 - mae: 3.1256\n",
            "Epoch 14/100\n",
            "1/1 [==============================] - 0s 5ms/step - loss: 2.9187 - mae: 2.9187\n",
            "Epoch 15/100\n",
            "1/1 [==============================] - 0s 6ms/step - loss: 2.1981 - mae: 2.1981\n",
            "Epoch 16/100\n",
            "1/1 [==============================] - 0s 6ms/step - loss: 1.3085 - mae: 1.3085\n",
            "Epoch 17/100\n",
            "1/1 [==============================] - 0s 5ms/step - loss: 0.6742 - mae: 0.6742\n",
            "Epoch 18/100\n",
            "1/1 [==============================] - 0s 5ms/step - loss: 0.9304 - mae: 0.9304\n",
            "Epoch 19/100\n",
            "1/1 [==============================] - 0s 7ms/step - loss: 1.3631 - mae: 1.3631\n",
            "Epoch 20/100\n",
            "1/1 [==============================] - 0s 5ms/step - loss: 2.0693 - mae: 2.0693\n",
            "Epoch 21/100\n",
            "1/1 [==============================] - 0s 4ms/step - loss: 2.1621 - mae: 2.1621\n",
            "Epoch 22/100\n",
            "1/1 [==============================] - 0s 5ms/step - loss: 1.8299 - mae: 1.8299\n",
            "Epoch 23/100\n",
            "1/1 [==============================] - 0s 8ms/step - loss: 1.8373 - mae: 1.8373\n",
            "Epoch 24/100\n",
            "1/1 [==============================] - 0s 5ms/step - loss: 1.3209 - mae: 1.3209\n",
            "Epoch 25/100\n",
            "1/1 [==============================] - 0s 5ms/step - loss: 0.6463 - mae: 0.6463\n",
            "Epoch 26/100\n",
            "1/1 [==============================] - 0s 5ms/step - loss: 0.0640 - mae: 0.0640\n",
            "Epoch 27/100\n",
            "1/1 [==============================] - 0s 7ms/step - loss: 1.1428 - mae: 1.1428\n",
            "Epoch 28/100\n",
            "1/1 [==============================] - 0s 17ms/step - loss: 1.5508 - mae: 1.5508\n",
            "Epoch 29/100\n",
            "1/1 [==============================] - 0s 9ms/step - loss: 1.3493 - mae: 1.3493\n",
            "Epoch 30/100\n",
            "1/1 [==============================] - 0s 7ms/step - loss: 0.7962 - mae: 0.7962\n",
            "Epoch 31/100\n",
            "1/1 [==============================] - 0s 6ms/step - loss: 1.1411 - mae: 1.1411\n",
            "Epoch 32/100\n",
            "1/1 [==============================] - 0s 7ms/step - loss: 0.9599 - mae: 0.9599\n",
            "Epoch 33/100\n",
            "1/1 [==============================] - 0s 7ms/step - loss: 0.2132 - mae: 0.2132\n",
            "Epoch 34/100\n",
            "1/1 [==============================] - 0s 6ms/step - loss: 1.0462 - mae: 1.0462\n",
            "Epoch 35/100\n",
            "1/1 [==============================] - 0s 7ms/step - loss: 1.3815 - mae: 1.3815\n",
            "Epoch 36/100\n",
            "1/1 [==============================] - 0s 6ms/step - loss: 1.0038 - mae: 1.0038\n",
            "Epoch 37/100\n",
            "1/1 [==============================] - 0s 8ms/step - loss: 0.8428 - mae: 0.8428\n",
            "Epoch 38/100\n",
            "1/1 [==============================] - 0s 6ms/step - loss: 1.0339 - mae: 1.0339\n",
            "Epoch 39/100\n",
            "1/1 [==============================] - 0s 12ms/step - loss: 0.5664 - mae: 0.5664\n",
            "Epoch 40/100\n",
            "1/1 [==============================] - 0s 6ms/step - loss: 0.5556 - mae: 0.5556\n",
            "Epoch 41/100\n",
            "1/1 [==============================] - 0s 6ms/step - loss: 0.7534 - mae: 0.7534\n",
            "Epoch 42/100\n",
            "1/1 [==============================] - 0s 6ms/step - loss: 0.4907 - mae: 0.4907\n",
            "Epoch 43/100\n",
            "1/1 [==============================] - 0s 6ms/step - loss: 0.9522 - mae: 0.9522\n",
            "Epoch 44/100\n",
            "1/1 [==============================] - 0s 6ms/step - loss: 1.1339 - mae: 1.1339\n",
            "Epoch 45/100\n",
            "1/1 [==============================] - 0s 6ms/step - loss: 0.6115 - mae: 0.6115\n",
            "Epoch 46/100\n",
            "1/1 [==============================] - 0s 6ms/step - loss: 0.5686 - mae: 0.5686\n",
            "Epoch 47/100\n",
            "1/1 [==============================] - 0s 6ms/step - loss: 0.8695 - mae: 0.8695\n",
            "Epoch 48/100\n",
            "1/1 [==============================] - 0s 6ms/step - loss: 0.6081 - mae: 0.6081\n",
            "Epoch 49/100\n",
            "1/1 [==============================] - 0s 6ms/step - loss: 0.6759 - mae: 0.6759\n",
            "Epoch 50/100\n",
            "1/1 [==============================] - 0s 6ms/step - loss: 0.9061 - mae: 0.9061\n",
            "Epoch 51/100\n",
            "1/1 [==============================] - 0s 6ms/step - loss: 0.5323 - mae: 0.5323\n",
            "Epoch 52/100\n",
            "1/1 [==============================] - 0s 6ms/step - loss: 0.4778 - mae: 0.4778\n",
            "Epoch 53/100\n",
            "1/1 [==============================] - 0s 5ms/step - loss: 0.6042 - mae: 0.6042\n",
            "Epoch 54/100\n",
            "1/1 [==============================] - 0s 6ms/step - loss: 0.2947 - mae: 0.2947\n",
            "Epoch 55/100\n",
            "1/1 [==============================] - 0s 5ms/step - loss: 1.0152 - mae: 1.0152\n",
            "Epoch 56/100\n",
            "1/1 [==============================] - 0s 5ms/step - loss: 1.2583 - mae: 1.2583\n",
            "Epoch 57/100\n",
            "1/1 [==============================] - 0s 5ms/step - loss: 0.8349 - mae: 0.8349\n",
            "Epoch 58/100\n",
            "1/1 [==============================] - 0s 5ms/step - loss: 0.2684 - mae: 0.2684\n",
            "Epoch 59/100\n",
            "1/1 [==============================] - 0s 5ms/step - loss: 0.5712 - mae: 0.5712\n",
            "Epoch 60/100\n",
            "1/1 [==============================] - 0s 6ms/step - loss: 0.3762 - mae: 0.3762\n",
            "Epoch 61/100\n",
            "1/1 [==============================] - 0s 6ms/step - loss: 0.6614 - mae: 0.6614\n",
            "Epoch 62/100\n",
            "1/1 [==============================] - 0s 6ms/step - loss: 0.7395 - mae: 0.7395\n",
            "Epoch 63/100\n",
            "1/1 [==============================] - 0s 6ms/step - loss: 0.2674 - mae: 0.2674\n",
            "Epoch 64/100\n",
            "1/1 [==============================] - 0s 5ms/step - loss: 0.6726 - mae: 0.6726\n",
            "Epoch 65/100\n",
            "1/1 [==============================] - 0s 5ms/step - loss: 0.9702 - mae: 0.9702\n",
            "Epoch 66/100\n",
            "1/1 [==============================] - 0s 6ms/step - loss: 0.7756 - mae: 0.7756\n",
            "Epoch 67/100\n",
            "1/1 [==============================] - 0s 7ms/step - loss: 0.3791 - mae: 0.3791\n",
            "Epoch 68/100\n",
            "1/1 [==============================] - 0s 6ms/step - loss: 0.6157 - mae: 0.6157\n",
            "Epoch 69/100\n",
            "1/1 [==============================] - 0s 7ms/step - loss: 0.2989 - mae: 0.2989\n",
            "Epoch 70/100\n",
            "1/1 [==============================] - 0s 8ms/step - loss: 0.5923 - mae: 0.5923\n",
            "Epoch 71/100\n",
            "1/1 [==============================] - 0s 6ms/step - loss: 0.8275 - mae: 0.8275\n",
            "Epoch 72/100\n",
            "1/1 [==============================] - 0s 6ms/step - loss: 0.4971 - mae: 0.4971\n",
            "Epoch 73/100\n",
            "1/1 [==============================] - 0s 6ms/step - loss: 0.5853 - mae: 0.5853\n",
            "Epoch 74/100\n",
            "1/1 [==============================] - 0s 8ms/step - loss: 0.7835 - mae: 0.7835\n",
            "Epoch 75/100\n",
            "1/1 [==============================] - 0s 8ms/step - loss: 0.4424 - mae: 0.4424\n",
            "Epoch 76/100\n",
            "1/1 [==============================] - 0s 9ms/step - loss: 0.5338 - mae: 0.5338\n",
            "Epoch 77/100\n",
            "1/1 [==============================] - 0s 6ms/step - loss: 0.7801 - mae: 0.7801\n",
            "Epoch 78/100\n",
            "1/1 [==============================] - 0s 6ms/step - loss: 0.5077 - mae: 0.5077\n",
            "Epoch 79/100\n",
            "1/1 [==============================] - 0s 6ms/step - loss: 0.2626 - mae: 0.2626\n",
            "Epoch 80/100\n",
            "1/1 [==============================] - 0s 16ms/step - loss: 0.3832 - mae: 0.3832\n",
            "Epoch 81/100\n",
            "1/1 [==============================] - 0s 6ms/step - loss: 0.2072 - mae: 0.2072\n",
            "Epoch 82/100\n",
            "1/1 [==============================] - 0s 7ms/step - loss: 0.1160 - mae: 0.1160\n",
            "Epoch 83/100\n",
            "1/1 [==============================] - 0s 6ms/step - loss: 0.4541 - mae: 0.4541\n",
            "Epoch 84/100\n",
            "1/1 [==============================] - 0s 5ms/step - loss: 0.3553 - mae: 0.3553\n",
            "Epoch 85/100\n",
            "1/1 [==============================] - 0s 6ms/step - loss: 0.5004 - mae: 0.5004\n",
            "Epoch 86/100\n",
            "1/1 [==============================] - 0s 6ms/step - loss: 0.5734 - mae: 0.5734\n",
            "Epoch 87/100\n",
            "1/1 [==============================] - 0s 5ms/step - loss: 0.1686 - mae: 0.1686\n",
            "Epoch 88/100\n",
            "1/1 [==============================] - 0s 8ms/step - loss: 0.6923 - mae: 0.6923\n",
            "Epoch 89/100\n",
            "1/1 [==============================] - 0s 5ms/step - loss: 0.9450 - mae: 0.9450\n",
            "Epoch 90/100\n",
            "1/1 [==============================] - 0s 5ms/step - loss: 0.6530 - mae: 0.6530\n",
            "Epoch 91/100\n",
            "1/1 [==============================] - 0s 5ms/step - loss: 0.5663 - mae: 0.5663\n",
            "Epoch 92/100\n",
            "1/1 [==============================] - 0s 5ms/step - loss: 0.7694 - mae: 0.7694\n",
            "Epoch 93/100\n",
            "1/1 [==============================] - 0s 5ms/step - loss: 0.4835 - mae: 0.4835\n",
            "Epoch 94/100\n",
            "1/1 [==============================] - 0s 5ms/step - loss: 0.3629 - mae: 0.3629\n",
            "Epoch 95/100\n",
            "1/1 [==============================] - 0s 5ms/step - loss: 0.5634 - mae: 0.5634\n",
            "Epoch 96/100\n",
            "1/1 [==============================] - 0s 6ms/step - loss: 0.3556 - mae: 0.3556\n",
            "Epoch 97/100\n",
            "1/1 [==============================] - 0s 5ms/step - loss: 0.5607 - mae: 0.5607\n",
            "Epoch 98/100\n",
            "1/1 [==============================] - 0s 6ms/step - loss: 0.4779 - mae: 0.4779\n",
            "Epoch 99/100\n",
            "1/1 [==============================] - 0s 5ms/step - loss: 0.0863 - mae: 0.0863\n",
            "Epoch 100/100\n",
            "1/1 [==============================] - 0s 5ms/step - loss: 0.1220 - mae: 0.1220\n"
          ]
        },
        {
          "output_type": "execute_result",
          "data": {
            "text/plain": [
              "<keras.callbacks.History at 0x7f6138140ad0>"
            ]
          },
          "metadata": {},
          "execution_count": 94
        }
      ]
    },
    {
      "cell_type": "code",
      "source": [
        "# Data\n",
        "X, y"
      ],
      "metadata": {
        "colab": {
          "base_uri": "https://localhost:8080/"
        },
        "id": "hXtYIfKqX9hu",
        "outputId": "d6a92297-23a1-4a4c-abbc-5319210de39d"
      },
      "execution_count": 95,
      "outputs": [
        {
          "output_type": "execute_result",
          "data": {
            "text/plain": [
              "(<tf.Tensor: shape=(8,), dtype=float64, numpy=array([-7., -4., -1.,  2.,  5.,  8., 11., 14.])>,\n",
              " <tf.Tensor: shape=(8,), dtype=float64, numpy=array([ 3.,  6.,  9., 12., 15., 18., 21., 24.])>)"
            ]
          },
          "metadata": {},
          "execution_count": 95
        }
      ]
    },
    {
      "cell_type": "code",
      "source": [
        "# Has the Model's prediction improved?\n",
        "model.predict([17.0])"
      ],
      "metadata": {
        "colab": {
          "base_uri": "https://localhost:8080/"
        },
        "id": "SGb67v9UYAMg",
        "outputId": "58f2e2b1-a1d3-490e-f67e-d885fd814b51"
      },
      "execution_count": 96,
      "outputs": [
        {
          "output_type": "execute_result",
          "data": {
            "text/plain": [
              "array([[27.11746]], dtype=float32)"
            ]
          },
          "metadata": {},
          "execution_count": 96
        }
      ]
    }
  ]
}